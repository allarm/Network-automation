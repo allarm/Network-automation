{
 "cells": [
  {
   "cell_type": "code",
   "execution_count": null,
   "metadata": {
    "collapsed": true
   },
   "outputs": [],
   "source": [
    "import pan.xapi"
   ]
  },
  {
   "cell_type": "code",
   "execution_count": null,
   "metadata": {},
   "outputs": [],
   "source": [
    "options['hostname'] = input(\"Panorama hostname: \")\n",
    "options['api_username'] = input(\"Username: \")\n",
    "options['api_password'] = input(\"Password: \")"
   ]
  },
  {
   "cell_type": "code",
   "execution_count": null,
   "metadata": {},
   "outputs": [],
   "source": [
    "xapi = pan.xapi.PanXapi(api_username=options['api_username'],\n",
    "                        api_password=options['api_password'],\n",
    "                        hostname=options['hostname'])\n",
    "xapi.keygen()"
   ]
  },
  {
   "cell_type": "code",
   "execution_count": null,
   "metadata": {
    "collapsed": true
   },
   "outputs": [],
   "source": [
    "with open('.pancfg', 'w') as f:\n",
    "    f.write(\"KEY \" + xapi.api_key + \"\\n\")\n",
    "    f.write(\"HOSTNAME \" + xapi.hostname)\n",
    "    f.close"
   ]
  }
 ],
 "metadata": {
  "kernelspec": {
   "display_name": "Python 3",
   "language": "python",
   "name": "python3"
  },
  "language_info": {
   "codemirror_mode": {
    "name": "ipython",
    "version": 3
   },
   "file_extension": ".py",
   "mimetype": "text/x-python",
   "name": "python",
   "nbconvert_exporter": "python",
   "pygments_lexer": "ipython3",
   "version": "3.6.1"
  }
 },
 "nbformat": 4,
 "nbformat_minor": 2
}
