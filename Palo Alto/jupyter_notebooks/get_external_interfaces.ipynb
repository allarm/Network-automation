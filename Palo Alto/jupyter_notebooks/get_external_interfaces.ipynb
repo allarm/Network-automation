{
 "cells": [
  {
   "cell_type": "code",
   "execution_count": null,
   "metadata": {
    "collapsed": true
   },
   "outputs": [],
   "source": [
    "import pan.xapi\n",
    "import xml.etree.ElementTree as ET\n",
    "import ipaddress\n",
    "from yaml import dump\n",
    "import sys"
   ]
  },
  {
   "cell_type": "code",
   "execution_count": null,
   "metadata": {},
   "outputs": [],
   "source": [
    "options={}\n",
    "with open(\".pancfg\") as f:\n",
    "    for line in f:\n",
    "        options[line.split(' ')[0].strip()] = line.split(' ')[1].strip()\n",
    "if not ( options['HOSTNAME'] and options['KEY'] ):\n",
    "        print (\".pancfg missing or bad\")\n",
    "        sys.exit"
   ]
  },
  {
   "cell_type": "code",
   "execution_count": null,
   "metadata": {},
   "outputs": [],
   "source": [
    "xapi = pan.xapi.PanXapi(api_key=options['KEY'],hostname=options['HOSTNAME'])\n",
    "\n",
    "xapi.op(cmd='show devices connected',cmd_xml=True)\n",
    "\n",
    "root_panorama = ET.fromstring(xapi.xml_result())\n",
    "\n",
    "firewalls_number = len(root_panorama.findall('entry'))"
   ]
  },
  {
   "cell_type": "code",
   "execution_count": null,
   "metadata": {
    "scrolled": false
   },
   "outputs": [],
   "source": [
    "def progress(count, total, status=''):\n",
    "    bar_len = 60\n",
    "    filled_len = int(round(bar_len * count / float(total)))\n",
    "\n",
    "    percents = round(100.0 * count / float(total), 1)\n",
    "    bar = '=' * filled_len + '-' * (bar_len - filled_len)\n",
    "\n",
    "    sys.stdout.write('[%s] %s%s ...%s\\r' % (bar, percents, '%', status))\n",
    "    sys.stdout.flush()\n",
    "\n",
    "fw_num_counter = 0\n",
    "\n",
    "output={} # nested dictionary populated with output\n",
    "\n",
    "for firewall in root_panorama.iter(tag='entry'):\n",
    "\n",
    "    fw_interface_no_address=False\n",
    "    \n",
    "    if firewall.find('serial') is not None:\n",
    "        fw_serial = firewall.find('serial').text\n",
    "        fw_hostname = firewall.find('hostname').text\n",
    "\n",
    "        progress(fw_num_counter,firewalls_number,fw_hostname)\n",
    "    \n",
    "        fw_num_counter += 1\n",
    "        \n",
    "        output[fw_hostname]={}\n",
    "        output[fw_hostname][\"serial\"]=fw_serial\n",
    "        output[fw_hostname][\"interfaces\"]={}\n",
    "\n",
    "        xapi_fw = pan.xapi.PanXapi(api_key=options['KEY'],hostname=options['HOSTNAME'],serial=fw_serial)\n",
    "        #xapi_fw = pan.xapi.PanXapi(api_key=key,hostname=hostname,serial=\"001606079185\")\n",
    "                \n",
    "        xapi_fw.op(cmd='show interface \"all\"',cmd_xml=True)\n",
    "        fw_interfaces = ET.fromstring('<root>'+xapi_fw.xml_result()+'</root>') #adding <root> node to fix broken XML\n",
    "       \n",
    "        for fw_interface in fw_interfaces.iter(tag='entry'):\n",
    "\n",
    "            if fw_interface.find('zone') is not None:\n",
    "                if fw_interface.find('zone').text == 'UNTRUST-L3':\n",
    "                    \n",
    "                    try:\n",
    "                        fw_int_ip = ipaddress.ip_interface(fw_interface.find('ip').text)\n",
    "                    except Exception as exception:\n",
    "                        fw_int_ip=ipaddress.ip_interface('0.0.0.0/0') # Normalizing exceptions with N/A addresses\n",
    "                        fw_interface_no_address=True\n",
    "\n",
    "                    #print(fw_int_ip.exploded)\n",
    "                    \n",
    "                    fw_interface_name=fw_interface.find('name').text\n",
    "                    \n",
    "                    if (not fw_interface_no_address) and (not fw_int_ip.is_link_local):\n",
    "                        output[fw_hostname][\"interfaces\"][fw_interface_name]={}\n",
    "                        output[fw_hostname][\"interfaces\"][fw_interface_name][\"ip_address\"]=fw_int_ip.exploded\n",
    "                    \n",
    "                    # if address is private start checking NAT table\n",
    "\n",
    "                    if ( fw_int_ip.is_private ) and ( not fw_int_ip.is_link_local ) and ( not fw_int_ip.ip.compressed == '0.0.0.0' ): \n",
    "\n",
    "                        output[fw_hostname][\"interfaces\"][fw_interface_name]={}\n",
    "                        output[fw_hostname][\"interfaces\"][fw_interface_name][\"ip_address\"]=fw_int_ip.exploded\n",
    "                            \n",
    "                        try: # get PAT rule name for this address\n",
    "                            xapi_fw.op(cmd='test nat-policy-match protocol \"6\" source \"' + \\\n",
    "                                fw_int_ip.ip.compressed + \\\n",
    "                                '\" from \"LAN-CORP\" to \"UNTRUST-L3\" destination \"8.8.8.8\" destination-port \"80\"',cmd_xml=True)\n",
    "                            fw_nat_rule_name = ET.fromstring('<root>' + xapi_fw.xml_result() + '</root>')\n",
    "                            \n",
    "                            no_nat_rule=False\n",
    "                            \n",
    "                            output[fw_hostname][\"interfaces\"][fw_interface_name][\"nat_rule\"]=fw_nat_rule_name[0][0].text\n",
    "                         \n",
    "                        except Exception as exception:\n",
    "                            no_nat_rule=True\n",
    "                            output[fw_hostname][\"interfaces\"][fw_interface_name][\"nat_rule\"]=\"No NAT rule associated\"\n",
    "                            \n",
    "                        # collect running config for this rule, to parse <translated-address> entry\n",
    "                        if not no_nat_rule:\n",
    "                            xapi_fw.show(xpath=\"/config/devices/entry/vsys/entry/rulebase/nat/rules/entry[@name='\" +\\\n",
    "                                fw_nat_rule_name[0][0].text +\\\n",
    "                                \"']\")\n",
    "                            fw_nat_rule_config = ET.fromstring('<root>' + xapi_fw.xml_result() + '</root>')\n",
    "                            fw_nat_rule_tr_ad = fw_nat_rule_config.find('entry/source-translation/dynamic-ip-and-port/translated-address/member').text\n",
    "                        \n",
    "                            output[fw_hostname][\"interfaces\"][fw_interface_name][\"translated_address\"] = fw_nat_rule_tr_ad\n",
    "                            \n",
    "                            # collect IP address of translated object address\n",
    "                            xapi_fw.show(xpath=\"/config/devices/entry/vsys/entry/address/entry[@name='\" +\\\n",
    "                                fw_nat_rule_tr_ad +\\\n",
    "                                \"']\")\n",
    "                            fw_ip_obj_name = ET.fromstring('<root>' + xapi_fw.xml_result() + '</root>')\n",
    "\n",
    "                            output[fw_hostname][\"interfaces\"][fw_interface_name][\"translated_ip\"] = fw_ip_obj_name[0][0].text\n",
    "    #break\n",
    "print (\"\\nDone\")"
   ]
  },
  {
   "cell_type": "code",
   "execution_count": null,
   "metadata": {
    "scrolled": true
   },
   "outputs": [],
   "source": [
    "from yaml import dump\n",
    "print (yaml.dump(output,default_flow_style=False))"
   ]
  },
  {
   "cell_type": "code",
   "execution_count": null,
   "metadata": {
    "collapsed": true
   },
   "outputs": [],
   "source": [
    "with open(\"ext_interfaces_list\", \"w\") as f:\n",
    "    f.write (yaml.dump(output,default_flow_style=False))"
   ]
  }
 ],
 "metadata": {
  "kernelspec": {
   "display_name": "Python 3",
   "language": "python",
   "name": "python3"
  },
  "language_info": {
   "codemirror_mode": {
    "name": "ipython",
    "version": 3
   },
   "file_extension": ".py",
   "mimetype": "text/x-python",
   "name": "python",
   "nbconvert_exporter": "python",
   "pygments_lexer": "ipython3",
   "version": "3.6.1"
  }
 },
 "nbformat": 4,
 "nbformat_minor": 2
}
